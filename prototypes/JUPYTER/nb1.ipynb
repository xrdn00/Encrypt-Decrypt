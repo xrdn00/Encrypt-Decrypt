{
 "cells": [
  {
   "cell_type": "code",
   "execution_count": 1,
   "metadata": {},
   "outputs": [
    {
     "data": {
      "application/vnd.jupyter.widget-view+json": {
       "model_id": "19b227662b9b4b5dac6ebf4248717118",
       "version_major": 2,
       "version_minor": 0
      },
      "text/plain": [
       "Dropdown(description='Action:', options=('Select', 'gen_key', 'enc', 'hash', 'xor'), value='Select')"
      ]
     },
     "metadata": {},
     "output_type": "display_data"
    },
    {
     "data": {
      "application/vnd.jupyter.widget-view+json": {
       "model_id": "e7edc15cf69e48539c0ad6519bbc5526",
       "version_major": 2,
       "version_minor": 0
      },
      "text/plain": [
       "Text(value='', description='Message:', placeholder='Enter your message')"
      ]
     },
     "metadata": {},
     "output_type": "display_data"
    },
    {
     "data": {
      "application/vnd.jupyter.widget-view+json": {
       "model_id": "644c2811a5564cb79a47a35e55c02dd7",
       "version_major": 2,
       "version_minor": 0
      },
      "text/plain": [
       "Text(value='', description='Key:', placeholder='Enter the key')"
      ]
     },
     "metadata": {},
     "output_type": "display_data"
    },
    {
     "data": {
      "application/vnd.jupyter.widget-view+json": {
       "model_id": "a6cc575a5e7d483c974da8b8fa13e2d2",
       "version_major": 2,
       "version_minor": 0
      },
      "text/plain": [
       "Text(value='', description='Message to Hash:', placeholder='Enter message to hash', style=TextStyle(descriptio…"
      ]
     },
     "metadata": {},
     "output_type": "display_data"
    },
    {
     "data": {
      "application/vnd.jupyter.widget-view+json": {
       "model_id": "83c6d52c960343448a9f6b5d1c7b6cbf",
       "version_major": 2,
       "version_minor": 0
      },
      "text/plain": [
       "Button(description='Run', style=ButtonStyle())"
      ]
     },
     "metadata": {},
     "output_type": "display_data"
    },
    {
     "data": {
      "application/vnd.jupyter.widget-view+json": {
       "model_id": "e413dade45284e069682a857dcc38fa4",
       "version_major": 2,
       "version_minor": 0
      },
      "text/plain": [
       "Output()"
      ]
     },
     "metadata": {},
     "output_type": "display_data"
    }
   ],
   "source": [
    "#----------------------------------------------------------------------------------------------------------------------------------------------------------------------------#\n",
    "## THIS WAS DONE\n",
    "# pip install cryptography\n",
    "\n",
    "## removed en and de crypt.py, and merged it into one jupyter-notebook (to avoid a certain (actual) 'hell'  (dependency hell)\n",
    "# this is what I talk about! https://www.explainxkcd.com/wiki/index.php/1579:_Tech_Loops)\n",
    "\n",
    "## RESOURCES AND SOURCES\n",
    "#- https://docs.python.org/3/\n",
    "#- https://pypi.org/project/cryptography/\n",
    "#- https://cryptography.io/en/latest/\n",
    "#- https://docs.python.org/3/library/base64.html\n",
    "#- https://docs.python.org/3/library/hashlib.html\n",
    "#EXTERNAL resources\n",
    "# https://travisdazell.blogspot.com/2012/11/many-time-pad-attack-crib-drag.html\n",
    "#- https://github.com/loneicewolf/ciphers-python/blob/main/Sectors/1/Funcs.py     (( for the \"XOR and STUFF\" modified. ))\n",
    "# CHATGPT FOR GUI (minor improvements was made after)\n",
    "#----------------------------------------------------------------------------------------------------------------------------------------------------------------------------#\n",
    "from cryptography.fernet import Fernet\n",
    "import hashlib\n",
    "import base64\n",
    "import ipywidgets as widgets\n",
    "from IPython.display import display\n",
    "\n",
    "# Functions remain unchanged\n",
    "def generate_key() -> str:\n",
    "    \"\"\"Generate a new Fernet key.\"\"\"\n",
    "    key = Fernet.generate_key()\n",
    "    return key.decode()\n",
    "\n",
    "def encrypt(message: str, key: str) -> str:\n",
    "    \"\"\"Encrypt a message using the provided Fernet key.\"\"\"\n",
    "    fernet = Fernet(key.encode())\n",
    "    encrypted_message = fernet.encrypt(message.encode())\n",
    "    return encrypted_message.decode()\n",
    "\n",
    "def decrypt(encrypted_message: str, key: str) -> str:\n",
    "    \"\"\"Decrypt a message using the provided Fernet key.\"\"\"\n",
    "    fernet = Fernet(key.encode())\n",
    "    decrypted_message = fernet.decrypt(encrypted_message.encode())\n",
    "    return decrypted_message.decode()\n",
    "\n",
    "def hash_string(input_string: str) -> str:\n",
    "    \"\"\"Hash a string using SHA-256.\"\"\"\n",
    "    sha256_hash = hashlib.sha256(input_string.encode()).hexdigest()\n",
    "    ##todo make more algorithms\n",
    "    ##todo iterations\n",
    "    ##todo HMAC\n",
    "    ##opt.TODO: GCM GALOIS\n",
    "    return sha256_hash\n",
    "\n",
    "def convert_encoding(data: bytes, encoding: str) -> str:\n",
    "    \"\"\"Convert data to the specified encoding.\"\"\"\n",
    "    if encoding == 'base64':\n",
    "        return base64.b64encode(data).decode()\n",
    "    elif encoding == 'base32':\n",
    "        return base64.b32encode(data).decode()\n",
    "    elif encoding == 'hex':\n",
    "        return data.hex()\n",
    "    else:\n",
    "        raise ValueError(\"Unsupported encoding format\")\n",
    "\n",
    "def convert_from_encoding(encoded_data: str, encoding: str) -> bytes:\n",
    "    \"\"\"Convert data from the specified encoding.\"\"\"\n",
    "    if encoding == 'base64':\n",
    "        return base64.b64decode(encoded_data)\n",
    "    elif encoding == 'base32':\n",
    "        return base64.b32decode(encoded_data)\n",
    "    elif encoding == 'hex':\n",
    "        return bytes.fromhex(encoded_data)\n",
    "    else:\n",
    "        raise ValueError(\"Unsupported encoding format\")\n",
    "\n",
    "def HEX_ENC(data: str) -> str:\n",
    "    \"\"\"Convert a string to its hex representation.\"\"\"\n",
    "    return data.encode().hex()\n",
    "\n",
    "def HEX_XOR(s1: str, s2: str) -> str:\n",
    "    \"\"\"Perform XOR on two hex-encoded strings.\"\"\"\n",
    "    b1 = bytes.fromhex(s1)\n",
    "    b2 = bytes.fromhex(s2)\n",
    "    \n",
    "    if len(b1) != len(b2):\n",
    "        raise ValueError(\"Hex strings must be of the same length\")\n",
    "\n",
    "    xor_result = bytes(a ^ b for a, b in zip(b1, b2))\n",
    "    \n",
    "    return xor_result.hex()\n",
    "\n",
    "def xor_strings(s1: str, s2: str) -> str:\n",
    "    \"\"\"Perform XOR on two strings.\"\"\"\n",
    "    if len(s1) != len(s2):\n",
    "        raise ValueError(\"Strings must be of the same length\")\n",
    "    \n",
    "    b1 = s1.encode()\n",
    "    b2 = s2.encode()\n",
    "    xor_result = bytes(a ^ b for a, b in zip(b1, b2))\n",
    "    return xor_result.decode()\n",
    "\n",
    "def perform_action(choice, original_message=None, key=None, message_to_hash=None):\n",
    "    \"\"\"Perform actions based on the choice.\"\"\"\n",
    "    output = \"\"\n",
    "    if choice == 'gen_key':\n",
    "        key = generate_key()\n",
    "        output = f\"Generated Key: {key}\"\n",
    "    \n",
    "    if choice == 'enc':\n",
    "        if not original_message or not key:\n",
    "            raise ValueError(\"Original message and key are required.\")\n",
    "        encrypted_message = encrypt(original_message, key)\n",
    "        decrypted_message = decrypt(encrypted_message, key)\n",
    "        output = (\n",
    "            f\"Original Message: {original_message}\\n\"\n",
    "            f\"Generated Key: {key}\\n\"\n",
    "            f\"Encrypted Message: {encrypted_message}\\n\"\n",
    "            f\"Decrypted Message: {decrypted_message}\"\n",
    "        )\n",
    "    \n",
    "    if choice == 'hash':\n",
    "        if not message_to_hash:\n",
    "            raise ValueError(\"Message to hash is required.\")\n",
    "        hash_value = hash_string(message_to_hash)\n",
    "        output = f\"SHA-256 Hash: {hash_value}\"\n",
    "    \n",
    "    if choice == 'xor':\n",
    "        if not original_message:\n",
    "            raise ValueError(\"Two messages are required for XOR.\")\n",
    "        msg1, msg2 = original_message\n",
    "        hex_msg1 = HEX_ENC(msg1)\n",
    "        hex_msg2 = HEX_ENC(msg2)\n",
    "        xor_result = HEX_XOR(hex_msg1, hex_msg2)\n",
    "        output = f\"XOR Result in Hex: {xor_result}\"\n",
    "    \n",
    "    return output\n",
    "\n",
    "# GUI Elements\n",
    "\n",
    "# Dropdown for selecting action\n",
    "action_dropdown = widgets.Dropdown(\n",
    "    options=['Select', 'gen_key', 'enc', 'hash', 'xor'],\n",
    "    value='Select',\n",
    "    description='Action:',\n",
    ")\n",
    "\n",
    "# Input fields\n",
    "original_message_input = widgets.Text(\n",
    "    value='',\n",
    "    placeholder='Enter your message',\n",
    "    description='Message:',\n",
    ")\n",
    "\n",
    "key_input = widgets.Text(\n",
    "    value='',\n",
    "    placeholder='Enter the key',\n",
    "    description='Key:',\n",
    ")\n",
    "#modified to view the full description\n",
    "message_to_hash_input = widgets.Text(\n",
    "    value='',\n",
    "    placeholder='Enter message to hash',\n",
    "    description='Message to Hash:',\n",
    "    style= {'description_width': 'initial'}\n",
    ")\n",
    "\n",
    "# Output area\n",
    "output_area = widgets.Output()\n",
    "\n",
    "def on_button_click(b):\n",
    "    with output_area:\n",
    "        # Clear previous output\n",
    "        output_area.clear_output()\n",
    "        \n",
    "        # Get selected action\n",
    "        action = action_dropdown.value\n",
    "        original_message = original_message_input.value\n",
    "        key = key_input.value\n",
    "        message_to_hash = message_to_hash_input.value\n",
    "        \n",
    "        if action == 'xor':\n",
    "            # For XOR, we need two messages, so we split the input\n",
    "            original_messages = original_message.split(',')\n",
    "            if len(original_messages) != 2:\n",
    "                print(\"For XOR, provide two comma-separated messages.\")\n",
    "                return\n",
    "            output = perform_action(action, original_message=original_messages)\n",
    "        else:\n",
    "            output = perform_action(action, original_message=original_message, key=key, message_to_hash=message_to_hash)\n",
    "        \n",
    "        print(output)\n",
    "\n",
    "# Button to trigger action\n",
    "button = widgets.Button(description=\"Run\")\n",
    "button.on_click(on_button_click)\n",
    "\n",
    "# Display GUI\n",
    "display(action_dropdown, original_message_input, key_input, message_to_hash_input, button, output_area)\n"
   ]
  }
 ],
 "metadata": {
  "kernelspec": {
   "display_name": "Python 3",
   "language": "python",
   "name": "python3"
  },
  "language_info": {
   "codemirror_mode": {
    "name": "ipython",
    "version": 3
   },
   "file_extension": ".py",
   "mimetype": "text/x-python",
   "name": "python",
   "nbconvert_exporter": "python",
   "pygments_lexer": "ipython3",
   "version": "3.10.0"
  }
 },
 "nbformat": 4,
 "nbformat_minor": 2
}
